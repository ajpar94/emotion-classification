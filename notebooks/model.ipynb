{
 "cells": [
  {
   "cell_type": "code",
   "execution_count": 2,
   "metadata": {
    "collapsed": true
   },
   "outputs": [],
   "source": [
    "from braindecode.models.shallow_fbcsp import ShallowFBCSPNet\n",
    "from torch import nn\n",
    "import torch\n",
    "from braindecode.torch_ext.util import set_random_seeds\n",
    "from braindecode.datautil.signal_target import SignalAndTarget\n",
    "from braindecode.torch_ext.optimizers import AdamW\n",
    "import torch.nn.functional as F\n",
    "import numpy as np\n",
    "import sys\n",
    "sys.path.append('/home/mshaban/DeployedProjects/ac')\n",
    "from src.utils import ensure_dir, shuffle_in_unison\n",
    "import pickle\n",
    "data_folder = \"/home/mshaban/DeployedProjects/ac/data/\"\n",
    "model_output_path = data_folder+'models/eegbci.pkl'\n",
    "ensure_dir(model_output_path)\n",
    "labeled_data = pickle.load(open(data_folder+\"labeled_data.pkl\", \"rb\"))"
   ]
  },
  {
   "cell_type": "markdown",
   "metadata": {},
   "source": [
    "### Create training_data, test_data"
   ]
  },
  {
   "cell_type": "code",
   "execution_count": 3,
   "metadata": {
    "collapsed": true
   },
   "outputs": [],
   "source": [
    "from sklearn.model_selection import train_test_split\n",
    "X, y = [], []\n",
    "min_n_times = 23040\n",
    "event_id = []\n",
    "e_cnt = 0\n",
    "for event, trials in labeled_data.items():\n",
    "    for it, trial in enumerate(trials):\n",
    "        if trial[0].get_data().shape[1] > min_n_times:\n",
    "            X.append(trial[0].get_data()[:, -1 * min_n_times:])\n",
    "            # y.append(trial[1])\n",
    "            eid = ''.join(map(str, trial[1]))\n",
    "            v, a = trial[1]\n",
    "            if v <= 5 and a <= 5:\n",
    "                y.append(0)\n",
    "            elif v > 5 >= a:\n",
    "                y.append(1)\n",
    "            elif v <= 5 < a:\n",
    "                y.append(2)\n",
    "            elif v >= 5 and a >= 5:\n",
    "                y.append(3)\n",
    "            # if eid in event_id:\n",
    "            #     y.append(event_id.index(eid))\n",
    "            # else:\n",
    "            #     y.append(e_cnt)\n",
    "            #     event_id.append(eid)\n",
    "            #     e_cnt += 1\n",
    "\n",
    "\n",
    "X, y = shuffle_in_unison(np.array(X).astype(np.float32), np.array(y).astype(np.int64))"
   ]
  },
  {
   "cell_type": "code",
   "execution_count": 4,
   "metadata": {},
   "outputs": [
    {
     "data": {
      "text/plain": [
       "<braindecode.experiments.experiment.Experiment at 0x7f31e8a34208>"
      ]
     },
     "execution_count": 4,
     "metadata": {},
     "output_type": "execute_result"
    }
   ],
   "source": [
    "train_set = SignalAndTarget(X[:40], y[:40])\n",
    "valid_set = SignalAndTarget(X[40:55], y[40:55])\n",
    "test_set = SignalAndTarget(X[55:], y[55:])\n",
    "cuda = True\n",
    "set_random_seeds(seed=20170629, cuda=cuda)\n",
    "n_classes = 4\n",
    "in_chans = train_set.X.shape[1]\n",
    "crop_size = train_set.X.shape[2] // 10\n",
    "model = ShallowFBCSPNet(in_chans=in_chans, n_classes=n_classes,\n",
    "                        input_time_length=None,\n",
    "                        final_conv_length=12)\n",
    "\n",
    "if cuda:\n",
    "    model.cuda()\n",
    "# optimizer = AdamW(model.parameters(), lr=1*0.01, weight_decay=0.5*0.001) # these are good values for the deep model\n",
    "optimizer = AdamW(model.parameters(), lr=0.0625 * 0.01, weight_decay=0)\n",
    "model.compile(loss=F.nll_loss, optimizer=optimizer, iterator_seed=1, cropped=True)\n",
    "\n",
    "# super_crop size\n",
    "input_time_length = 23040\n",
    "\n",
    "model.fit(train_set.X, train_set.y, epochs=100, batch_size=64, scheduler='cosine',\n",
    "          validation_data=(valid_set.X, valid_set.y), input_time_length=input_time_length)"
   ]
  },
  {
   "cell_type": "code",
   "execution_count": 6,
   "metadata": {},
   "outputs": [
    {
     "name": "stdout",
     "output_type": "stream",
     "text": [
      "{'misclass': 0.6666666666666667, 'runtime': 0.0010809898376464844, 'loss': 4.299388885498047}\n",
      "[3 3 2] [1 3 3]\n"
     ]
    }
   ],
   "source": [
    "# print(model.epochs_df)\n",
    "print(model.evaluate(test_set.X, test_set.y))\n",
    "print(model.predict(test_set.X), test_set.y)\n",
    "\n",
    "# with open(model_output_path, 'wb') as f:\n",
    "#     pickle.dump(model, f)"
   ]
  },
  {
   "cell_type": "code",
   "execution_count": null,
   "metadata": {
    "collapsed": true
   },
   "outputs": [],
   "source": []
  }
 ],
 "metadata": {
  "kernelspec": {
   "display_name": "Python 3",
   "language": "python",
   "name": "python3"
  },
  "language_info": {
   "codemirror_mode": {
    "name": "ipython",
    "version": 3
   },
   "file_extension": ".py",
   "mimetype": "text/x-python",
   "name": "python",
   "nbconvert_exporter": "python",
   "pygments_lexer": "ipython3",
   "version": "3.5.5"
  }
 },
 "nbformat": 4,
 "nbformat_minor": 2
}
