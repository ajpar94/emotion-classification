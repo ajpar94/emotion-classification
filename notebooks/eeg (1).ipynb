{
 "cells": [
  {
   "cell_type": "code",
   "execution_count": 0,
   "metadata": {
    "colab": {},
    "colab_type": "code",
    "collapsed": true,
    "id": "Rd3BiW8ZS6MC"
   },
   "outputs": [],
   "source": [
    "import numpy as np\n",
    "import pandas as pd\n",
    "import matplotlib.pyplot as plt\n",
    "from matplotlib.colors import ListedColormap\n",
    "%matplotlib inline\n",
    "import seaborn as sns\n",
    "import pickle"
   ]
  },
  {
   "cell_type": "code",
   "execution_count": 0,
   "metadata": {
    "colab": {},
    "colab_type": "code",
    "collapsed": true,
    "id": "20ZTJYD-TvRR"
   },
   "outputs": [],
   "source": [
    "path = '/content/psd_labeled_data.pkl'\n",
    "data = pickle.load(open(path, \"rb\"))"
   ]
  },
  {
   "cell_type": "code",
   "execution_count": 5,
   "metadata": {
    "colab": {
     "base_uri": "https://localhost:8080/",
     "height": 170
    },
    "colab_type": "code",
    "id": "sTXUEYl6UDDb",
    "outputId": "f5edc793-5f7a-45ef-e756-a8a68fad18d1"
   },
   "outputs": [
    {
     "data": {
      "text/plain": [
       "[array([[38.76602059, 33.64471013, 32.99065041, 32.5182358 ],\n",
       "        [40.87795429, 34.84469753, 28.23992583, 25.45515754],\n",
       "        [37.0306689 , 31.38578592, 29.24121901, 28.79806225],\n",
       "        [34.24693712, 28.27128243, 28.19285031, 28.39306888],\n",
       "        [31.30611237, 23.98681128, 21.32271659, 20.48445029],\n",
       "        [48.12897731, 40.83515457, 34.31696185, 29.8719244 ],\n",
       "        [37.21254047, 32.26777879, 31.56832316, 31.49952075],\n",
       "        [35.50986378, 29.98282079, 27.42564807, 26.77684143],\n",
       "        [40.9529136 , 35.71958717, 31.84859711, 30.79562704]]), array([8, 7])]"
      ]
     },
     "execution_count": 5,
     "metadata": {
      "tags": []
     },
     "output_type": "execute_result"
    }
   ],
   "source": [
    "data['beat'][12]"
   ]
  },
  {
   "cell_type": "code",
   "execution_count": 0,
   "metadata": {
    "colab": {},
    "colab_type": "code",
    "collapsed": true,
    "id": "ylHt-RdrUHPP"
   },
   "outputs": [],
   "source": [
    "stats = pd.read_csv('/content/stats.csv', sep=';')"
   ]
  },
  {
   "cell_type": "code",
   "execution_count": 12,
   "metadata": {
    "colab": {
     "base_uri": "https://localhost:8080/",
     "height": 669
    },
    "colab_type": "code",
    "id": "rUFhnalEUleq",
    "outputId": "e846367d-706e-450f-aa0d-783e467502e0"
   },
   "outputs": [
    {
     "data": {
      "text/html": [
       "<div>\n",
       "<style scoped>\n",
       "    .dataframe tbody tr th:only-of-type {\n",
       "        vertical-align: middle;\n",
       "    }\n",
       "\n",
       "    .dataframe tbody tr th {\n",
       "        vertical-align: top;\n",
       "    }\n",
       "\n",
       "    .dataframe thead th {\n",
       "        text-align: right;\n",
       "    }\n",
       "</style>\n",
       "<table border=\"1\" class=\"dataframe\">\n",
       "  <thead>\n",
       "    <tr style=\"text-align: right;\">\n",
       "      <th></th>\n",
       "      <th>trial</th>\n",
       "      <th>age</th>\n",
       "      <th>gender</th>\n",
       "      <th>gaming</th>\n",
       "      <th>vr_experience</th>\n",
       "      <th>beat_valence</th>\n",
       "      <th>beat_arousal</th>\n",
       "      <th>brook_valence</th>\n",
       "      <th>brook_arousal</th>\n",
       "      <th>nat_valence</th>\n",
       "      <th>nat_arousal</th>\n",
       "    </tr>\n",
       "  </thead>\n",
       "  <tbody>\n",
       "    <tr>\n",
       "      <th>0</th>\n",
       "      <td>1</td>\n",
       "      <td>35</td>\n",
       "      <td>1</td>\n",
       "      <td>1</td>\n",
       "      <td>1</td>\n",
       "      <td>6</td>\n",
       "      <td>5</td>\n",
       "      <td>1</td>\n",
       "      <td>9</td>\n",
       "      <td>3</td>\n",
       "      <td>2</td>\n",
       "    </tr>\n",
       "    <tr>\n",
       "      <th>1</th>\n",
       "      <td>2</td>\n",
       "      <td>27</td>\n",
       "      <td>1</td>\n",
       "      <td>1</td>\n",
       "      <td>2</td>\n",
       "      <td>8</td>\n",
       "      <td>7</td>\n",
       "      <td>8</td>\n",
       "      <td>8</td>\n",
       "      <td>6</td>\n",
       "      <td>5</td>\n",
       "    </tr>\n",
       "    <tr>\n",
       "      <th>2</th>\n",
       "      <td>3</td>\n",
       "      <td>29</td>\n",
       "      <td>2</td>\n",
       "      <td>1</td>\n",
       "      <td>1</td>\n",
       "      <td>6</td>\n",
       "      <td>6</td>\n",
       "      <td>5</td>\n",
       "      <td>8</td>\n",
       "      <td>5</td>\n",
       "      <td>3</td>\n",
       "    </tr>\n",
       "    <tr>\n",
       "      <th>3</th>\n",
       "      <td>4</td>\n",
       "      <td>20</td>\n",
       "      <td>1</td>\n",
       "      <td>2</td>\n",
       "      <td>3</td>\n",
       "      <td>6</td>\n",
       "      <td>7</td>\n",
       "      <td>5</td>\n",
       "      <td>9</td>\n",
       "      <td>8</td>\n",
       "      <td>5</td>\n",
       "    </tr>\n",
       "    <tr>\n",
       "      <th>4</th>\n",
       "      <td>5</td>\n",
       "      <td>22</td>\n",
       "      <td>2</td>\n",
       "      <td>1</td>\n",
       "      <td>1</td>\n",
       "      <td>8</td>\n",
       "      <td>6</td>\n",
       "      <td>6</td>\n",
       "      <td>8</td>\n",
       "      <td>9</td>\n",
       "      <td>1</td>\n",
       "    </tr>\n",
       "    <tr>\n",
       "      <th>5</th>\n",
       "      <td>6</td>\n",
       "      <td>21</td>\n",
       "      <td>3</td>\n",
       "      <td>1</td>\n",
       "      <td>2</td>\n",
       "      <td>9</td>\n",
       "      <td>8</td>\n",
       "      <td>2</td>\n",
       "      <td>9</td>\n",
       "      <td>5</td>\n",
       "      <td>3</td>\n",
       "    </tr>\n",
       "    <tr>\n",
       "      <th>6</th>\n",
       "      <td>7</td>\n",
       "      <td>26</td>\n",
       "      <td>2</td>\n",
       "      <td>5</td>\n",
       "      <td>4</td>\n",
       "      <td>7</td>\n",
       "      <td>7</td>\n",
       "      <td>5</td>\n",
       "      <td>7</td>\n",
       "      <td>7</td>\n",
       "      <td>2</td>\n",
       "    </tr>\n",
       "    <tr>\n",
       "      <th>7</th>\n",
       "      <td>8</td>\n",
       "      <td>25</td>\n",
       "      <td>1</td>\n",
       "      <td>1</td>\n",
       "      <td>2</td>\n",
       "      <td>9</td>\n",
       "      <td>9</td>\n",
       "      <td>3</td>\n",
       "      <td>5</td>\n",
       "      <td>6</td>\n",
       "      <td>4</td>\n",
       "    </tr>\n",
       "    <tr>\n",
       "      <th>8</th>\n",
       "      <td>9</td>\n",
       "      <td>23</td>\n",
       "      <td>2</td>\n",
       "      <td>3</td>\n",
       "      <td>1</td>\n",
       "      <td>9</td>\n",
       "      <td>7</td>\n",
       "      <td>7</td>\n",
       "      <td>9</td>\n",
       "      <td>5</td>\n",
       "      <td>2</td>\n",
       "    </tr>\n",
       "    <tr>\n",
       "      <th>9</th>\n",
       "      <td>10</td>\n",
       "      <td>22</td>\n",
       "      <td>1</td>\n",
       "      <td>1</td>\n",
       "      <td>1</td>\n",
       "      <td>8</td>\n",
       "      <td>7</td>\n",
       "      <td>7</td>\n",
       "      <td>9</td>\n",
       "      <td>5</td>\n",
       "      <td>3</td>\n",
       "    </tr>\n",
       "    <tr>\n",
       "      <th>10</th>\n",
       "      <td>11</td>\n",
       "      <td>29</td>\n",
       "      <td>2</td>\n",
       "      <td>1</td>\n",
       "      <td>4</td>\n",
       "      <td>8</td>\n",
       "      <td>8</td>\n",
       "      <td>6</td>\n",
       "      <td>8</td>\n",
       "      <td>8</td>\n",
       "      <td>3</td>\n",
       "    </tr>\n",
       "    <tr>\n",
       "      <th>11</th>\n",
       "      <td>12</td>\n",
       "      <td>26</td>\n",
       "      <td>1</td>\n",
       "      <td>1</td>\n",
       "      <td>1</td>\n",
       "      <td>8</td>\n",
       "      <td>7</td>\n",
       "      <td>6</td>\n",
       "      <td>8</td>\n",
       "      <td>6</td>\n",
       "      <td>2</td>\n",
       "    </tr>\n",
       "    <tr>\n",
       "      <th>12</th>\n",
       "      <td>13</td>\n",
       "      <td>35</td>\n",
       "      <td>2</td>\n",
       "      <td>1</td>\n",
       "      <td>1</td>\n",
       "      <td>7</td>\n",
       "      <td>9</td>\n",
       "      <td>4</td>\n",
       "      <td>4</td>\n",
       "      <td>9</td>\n",
       "      <td>1</td>\n",
       "    </tr>\n",
       "    <tr>\n",
       "      <th>13</th>\n",
       "      <td>14</td>\n",
       "      <td>22</td>\n",
       "      <td>1</td>\n",
       "      <td>1</td>\n",
       "      <td>1</td>\n",
       "      <td>9</td>\n",
       "      <td>9</td>\n",
       "      <td>3</td>\n",
       "      <td>9</td>\n",
       "      <td>5</td>\n",
       "      <td>5</td>\n",
       "    </tr>\n",
       "    <tr>\n",
       "      <th>14</th>\n",
       "      <td>15</td>\n",
       "      <td>24</td>\n",
       "      <td>2</td>\n",
       "      <td>2</td>\n",
       "      <td>2</td>\n",
       "      <td>6</td>\n",
       "      <td>6</td>\n",
       "      <td>4</td>\n",
       "      <td>9</td>\n",
       "      <td>6</td>\n",
       "      <td>2</td>\n",
       "    </tr>\n",
       "    <tr>\n",
       "      <th>15</th>\n",
       "      <td>16</td>\n",
       "      <td>23</td>\n",
       "      <td>1</td>\n",
       "      <td>1</td>\n",
       "      <td>1</td>\n",
       "      <td>6</td>\n",
       "      <td>7</td>\n",
       "      <td>2</td>\n",
       "      <td>9</td>\n",
       "      <td>8</td>\n",
       "      <td>3</td>\n",
       "    </tr>\n",
       "    <tr>\n",
       "      <th>16</th>\n",
       "      <td>17</td>\n",
       "      <td>23</td>\n",
       "      <td>2</td>\n",
       "      <td>3</td>\n",
       "      <td>3</td>\n",
       "      <td>7</td>\n",
       "      <td>8</td>\n",
       "      <td>3</td>\n",
       "      <td>7</td>\n",
       "      <td>7</td>\n",
       "      <td>2</td>\n",
       "    </tr>\n",
       "    <tr>\n",
       "      <th>17</th>\n",
       "      <td>18</td>\n",
       "      <td>23</td>\n",
       "      <td>2</td>\n",
       "      <td>2</td>\n",
       "      <td>1</td>\n",
       "      <td>9</td>\n",
       "      <td>7</td>\n",
       "      <td>7</td>\n",
       "      <td>8</td>\n",
       "      <td>9</td>\n",
       "      <td>1</td>\n",
       "    </tr>\n",
       "    <tr>\n",
       "      <th>18</th>\n",
       "      <td>19</td>\n",
       "      <td>21</td>\n",
       "      <td>2</td>\n",
       "      <td>3</td>\n",
       "      <td>3</td>\n",
       "      <td>9</td>\n",
       "      <td>7</td>\n",
       "      <td>5</td>\n",
       "      <td>8</td>\n",
       "      <td>4</td>\n",
       "      <td>3</td>\n",
       "    </tr>\n",
       "    <tr>\n",
       "      <th>19</th>\n",
       "      <td>20</td>\n",
       "      <td>28</td>\n",
       "      <td>2</td>\n",
       "      <td>2</td>\n",
       "      <td>2</td>\n",
       "      <td>7</td>\n",
       "      <td>8</td>\n",
       "      <td>5</td>\n",
       "      <td>7</td>\n",
       "      <td>4</td>\n",
       "      <td>2</td>\n",
       "    </tr>\n",
       "  </tbody>\n",
       "</table>\n",
       "</div>"
      ],
      "text/plain": [
       "    trial  age  gender  gaming  vr_experience  beat_valence  beat_arousal  \\\n",
       "0       1   35       1       1              1             6             5   \n",
       "1       2   27       1       1              2             8             7   \n",
       "2       3   29       2       1              1             6             6   \n",
       "3       4   20       1       2              3             6             7   \n",
       "4       5   22       2       1              1             8             6   \n",
       "5       6   21       3       1              2             9             8   \n",
       "6       7   26       2       5              4             7             7   \n",
       "7       8   25       1       1              2             9             9   \n",
       "8       9   23       2       3              1             9             7   \n",
       "9      10   22       1       1              1             8             7   \n",
       "10     11   29       2       1              4             8             8   \n",
       "11     12   26       1       1              1             8             7   \n",
       "12     13   35       2       1              1             7             9   \n",
       "13     14   22       1       1              1             9             9   \n",
       "14     15   24       2       2              2             6             6   \n",
       "15     16   23       1       1              1             6             7   \n",
       "16     17   23       2       3              3             7             8   \n",
       "17     18   23       2       2              1             9             7   \n",
       "18     19   21       2       3              3             9             7   \n",
       "19     20   28       2       2              2             7             8   \n",
       "\n",
       "    brook_valence  brook_arousal  nat_valence  nat_arousal  \n",
       "0               1              9            3            2  \n",
       "1               8              8            6            5  \n",
       "2               5              8            5            3  \n",
       "3               5              9            8            5  \n",
       "4               6              8            9            1  \n",
       "5               2              9            5            3  \n",
       "6               5              7            7            2  \n",
       "7               3              5            6            4  \n",
       "8               7              9            5            2  \n",
       "9               7              9            5            3  \n",
       "10              6              8            8            3  \n",
       "11              6              8            6            2  \n",
       "12              4              4            9            1  \n",
       "13              3              9            5            5  \n",
       "14              4              9            6            2  \n",
       "15              2              9            8            3  \n",
       "16              3              7            7            2  \n",
       "17              7              8            9            1  \n",
       "18              5              8            4            3  \n",
       "19              5              7            4            2  "
      ]
     },
     "execution_count": 12,
     "metadata": {
      "tags": []
     },
     "output_type": "execute_result"
    }
   ],
   "source": [
    "stats"
   ]
  },
  {
   "cell_type": "code",
   "execution_count": 52,
   "metadata": {
    "colab": {
     "base_uri": "https://localhost:8080/",
     "height": 421
    },
    "colab_type": "code",
    "id": "bqITEh4-VHTx",
    "outputId": "4ce5b1d1-343d-4f4e-b541-19c6821ca9cf"
   },
   "outputs": [
    {
     "data": {
      "image/png": "[encoded data removed]",
      "text/plain": [
       "<Figure size 504x504 with 1 Axes>"
      ]
     },
     "metadata": {
      "tags": []
     },
     "output_type": "display_data"
    }
   ],
   "source": [
    "gender_labels = ['Male', 'Female', 'Other']\n",
    "sizes = (stats['gender'].value_counts().values)/2\n",
    "colors = ['#66b3ff', '#99ff99', '#ff6666']\n",
    "\n",
    "fig1, ax1 = plt.subplots(figsize=(7,7))\n",
    "ax1.pie(sizes, labels=gender_labels, colors=colors, autopct='%1.1f%%',\n",
    "        shadow=True, startangle=90, textprops={'fontsize': 14, 'fontweight':'bold'})\n",
    "ax1.axis('equal')  # Equal aspect ratio ensures that pie is drawn as a circle.\n",
    "plt.show()"
   ]
  },
  {
   "cell_type": "code",
   "execution_count": 66,
   "metadata": {
    "colab": {
     "base_uri": "https://localhost:8080/",
     "height": 111
    },
    "colab_type": "code",
    "id": "2iHb0sRPWxtN",
    "outputId": "416f8992-3816-4640-a294-72f34b377392"
   },
   "outputs": [
    {
     "data": {
      "text/html": [
       "<div>\n",
       "<style scoped>\n",
       "    .dataframe tbody tr th:only-of-type {\n",
       "        vertical-align: middle;\n",
       "    }\n",
       "\n",
       "    .dataframe tbody tr th {\n",
       "        vertical-align: top;\n",
       "    }\n",
       "\n",
       "    .dataframe thead th {\n",
       "        text-align: right;\n",
       "    }\n",
       "</style>\n",
       "<table border=\"1\" class=\"dataframe\">\n",
       "  <thead>\n",
       "    <tr style=\"text-align: right;\">\n",
       "      <th></th>\n",
       "      <th>age</th>\n",
       "      <th>beat_valence</th>\n",
       "      <th>beat_arousal</th>\n",
       "      <th>brook_valence</th>\n",
       "      <th>brook_arousal</th>\n",
       "      <th>nat_valence</th>\n",
       "      <th>nat_arousal</th>\n",
       "    </tr>\n",
       "  </thead>\n",
       "  <tbody>\n",
       "    <tr>\n",
       "      <th>mean</th>\n",
       "      <td>25.200000</td>\n",
       "      <td>7.600000</td>\n",
       "      <td>7.250000</td>\n",
       "      <td>4.70000</td>\n",
       "      <td>7.900000</td>\n",
       "      <td>6.250000</td>\n",
       "      <td>2.700000</td>\n",
       "    </tr>\n",
       "    <tr>\n",
       "      <th>std</th>\n",
       "      <td>4.274773</td>\n",
       "      <td>1.187656</td>\n",
       "      <td>1.069924</td>\n",
       "      <td>1.92217</td>\n",
       "      <td>1.372665</td>\n",
       "      <td>1.802776</td>\n",
       "      <td>1.260743</td>\n",
       "    </tr>\n",
       "  </tbody>\n",
       "</table>\n",
       "</div>"
      ],
      "text/plain": [
       "            age  beat_valence  beat_arousal  brook_valence  brook_arousal  \\\n",
       "mean  25.200000      7.600000      7.250000        4.70000       7.900000   \n",
       "std    4.274773      1.187656      1.069924        1.92217       1.372665   \n",
       "\n",
       "      nat_valence  nat_arousal  \n",
       "mean     6.250000     2.700000  \n",
       "std      1.802776     1.260743  "
      ]
     },
     "execution_count": 66,
     "metadata": {
      "tags": []
     },
     "output_type": "execute_result"
    }
   ],
   "source": [
    "stats[['age', 'beat_valence', 'beat_arousal', 'brook_valence', 'brook_arousal', 'nat_valence','nat_arousal']].describe()[1:3]"
   ]
  },
  {
   "cell_type": "code",
   "execution_count": 0,
   "metadata": {
    "colab": {},
    "colab_type": "code",
    "collapsed": true,
    "id": "69TX-G0ygSM6"
   },
   "outputs": [],
   "source": [
    "beat_V = stats.iloc[:,5].values\n",
    "beat_A = stats.iloc[:,6].values\n",
    "brook_V = stats.iloc[:,7].values\n",
    "brook_A = stats.iloc[:,8].values\n",
    "nat_V = stats.iloc[:,9].values\n",
    "nat_A = stats.iloc[:,10].values"
   ]
  },
  {
   "cell_type": "code",
   "execution_count": 0,
   "metadata": {
    "colab": {},
    "colab_type": "code",
    "collapsed": true,
    "id": "thqb40vyh3--"
   },
   "outputs": [],
   "source": [
    "valence = np.concatenate((beat_V, brook_V, nat_V))\n",
    "arousal = np.concatenate((beat_A, brook_A, nat_A))\n",
    "\n",
    "game_dict = {1:'Beat Saber', 2:'The Brookhaven Experiment', 3:'Nature Treks VR'}\n",
    "c = np.concatenate((np.ones(20), np.ones(20)*2, np.ones(20)*3))\n",
    "game_labels = np.vectorize(game_dict.get)(c)"
   ]
  },
  {
   "cell_type": "code",
   "execution_count": 185,
   "metadata": {
    "colab": {
     "base_uri": "https://localhost:8080/",
     "height": 619
    },
    "colab_type": "code",
    "id": "SooR8c3xkzI5",
    "outputId": "5a936b19-3485-4f6d-d875-b7a677a9be43"
   },
   "outputs": [
    {
     "data": {
      "image/png": "[encoded data removed]",
      "text/plain": [
       "<Figure size 720x720 with 1 Axes>"
      ]
     },
     "metadata": {
      "tags": []
     },
     "output_type": "display_data"
    }
   ],
   "source": [
    "plt.figure(figsize=(10,10))\n",
    "plt.axhline(y=5, color='black', linestyle=':')\n",
    "plt.axvline(x=5, color='black', linestyle=':')\n",
    "plt.scatter(beat_V, beat_A, s=25**2, c='Blue', marker='*',alpha=0.5, label='Beat Saber')\n",
    "plt.scatter(brook_V, brook_A,s=19**2, c='Crimson', marker='X',alpha=0.5, label='Brookhaven Experiment')\n",
    "plt.scatter(nat_V, nat_A, s=20**2, c='Green', marker=r'$\\clubsuit$',alpha=0.5, label='Nature Treks VR')\n",
    "plt.xlabel(\"Valence\",size=20)\n",
    "plt.ylabel(\"Arousal\",size=20)\n",
    "plt.xticks(range(1,10), size=15)\n",
    "plt.yticks(range(1,10), size=15)\n",
    "\n",
    "plt.legend(loc='center left', bbox_to_anchor=(1, 0.5), fontsize=18)\n",
    "plt.show()"
   ]
  },
  {
   "cell_type": "code",
   "execution_count": 0,
   "metadata": {
    "colab": {},
    "colab_type": "code",
    "collapsed": true,
    "id": "7Lgv7p9Mle-a"
   },
   "outputs": [],
   "source": [
    "\n",
    "xx1, xx2 = np.meshgrid(np.arange(0.5, 9.5, 0.01),\n",
    "                           np.arange(0.5, 9.5, 0.01))\n",
    "x = np.array([xx1.ravel(), xx2.ravel()]).T\n",
    "\n",
    "y = []\n",
    "for [v,a] in x:\n",
    "  if a>=5.5:\n",
    "    if v>=5.5:\n",
    "      y.append(0)\n",
    "    else:\n",
    "      y.append(1)\n",
    "  else:\n",
    "    y.append(2)\n",
    "    \n",
    "y=np.array(y).reshape(xx1.shape)"
   ]
  },
  {
   "cell_type": "code",
   "execution_count": 207,
   "metadata": {
    "colab": {
     "base_uri": "https://localhost:8080/",
     "height": 619
    },
    "colab_type": "code",
    "id": "04zPV7RR5emW",
    "outputId": "1afc3325-8db8-4b1e-cb9a-b85e41197445"
   },
   "outputs": [
    {
     "data": {
      "image/png": "[encoded data removed]",
      "text/plain": [
       "<Figure size 720x720 with 1 Axes>"
      ]
     },
     "metadata": {
      "tags": []
     },
     "output_type": "display_data"
    }
   ],
   "source": [
    "colors = ('blue', 'red', 'lightgreen')\n",
    "cmap = ListedColormap(colors[:len(np.unique(y))])\n",
    "plt.figure(figsize=(10,10))\n",
    "plt.contourf(xx1,xx2, y, alpha=0.3,cmap=cmap )\n",
    "plt.axhline(y=5, color='black', linestyle=':')\n",
    "plt.axvline(x=5, color='black', linestyle=':')\n",
    "plt.scatter(beat_V, beat_A, s=25**2, c='Blue', marker='*',alpha=0.5, label='Beat Saber')\n",
    "plt.scatter(brook_V, brook_A,s=19**2, c='Crimson', marker='X',alpha=0.5, label='Brookhaven Experiment')\n",
    "plt.scatter(nat_V, nat_A, s=20**2, c='Green', marker=r'$\\clubsuit$',alpha=0.5, label='Nature Treks VR')\n",
    "plt.xlabel(\"Valence\",size=20)\n",
    "plt.ylabel(\"Arousal\",size=20)\n",
    "plt.xticks(range(1,10), size=15)\n",
    "plt.yticks(range(1,10), size=15)\n",
    "\n",
    "plt.show()"
   ]
  },
  {
   "cell_type": "code",
   "execution_count": 193,
   "metadata": {
    "colab": {
     "base_uri": "https://localhost:8080/",
     "height": 34
    },
    "colab_type": "code",
    "id": "F3I_WGQO62Yd",
    "outputId": "eb34572e-f815-4826-aa34-f4163138f5e2"
   },
   "outputs": [
    {
     "data": {
      "text/plain": [
       "1000000"
      ]
     },
     "execution_count": 193,
     "metadata": {
      "tags": []
     },
     "output_type": "execute_result"
    }
   ],
   "source": []
  },
  {
   "cell_type": "code",
   "execution_count": 0,
   "metadata": {
    "colab": {},
    "colab_type": "code",
    "collapsed": true,
    "id": "614-esL162vk"
   },
   "outputs": [],
   "source": []
  }
 ],
 "metadata": {
  "accelerator": "GPU",
  "colab": {
   "name": "eeg.ipynb",
   "provenance": [],
   "version": "0.3.2"
  },
  "kernelspec": {
   "display_name": "Python 3",
   "language": "python",
   "name": "python3"
  },
  "language_info": {
   "codemirror_mode": {
    "name": "ipython",
    "version": 3
   },
   "file_extension": ".py",
   "mimetype": "text/x-python",
   "name": "python",
   "nbconvert_exporter": "python",
   "pygments_lexer": "ipython3",
   "version": "3.5.5"
  }
 },
 "nbformat": 4,
 "nbformat_minor": 1
}
