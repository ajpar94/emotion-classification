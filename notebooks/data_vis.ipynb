{
 "cells": [
  {
   "cell_type": "code",
   "execution_count": 1,
   "metadata": {
    "collapsed": true
   },
   "outputs": [],
   "source": [
    "import sys\n",
    "\n",
    "import pandas as pd\n",
    "import mne\n",
    "from mne.time_frequency import tfr_morlet, psd_multitaper\n",
    "import h5py\n",
    "\n",
    "from os import listdir\n",
    "from os.path import isfile, join\n",
    "import re\n",
    "import numpy as np\n",
    "from pathlib import Path\n",
    "import matplotlib.pyplot as plt\n",
    "%matplotlib notebook\n",
    "pfad = '/Users/Ajit/Documents/_Privat/TU Master/Module/Introduction to Physiological Computing/Neuro-Usability Project/emotional_classifier-master'\n",
    "sys.path.append(pfad)\n",
    "from src.utils import ensure_dir"
   ]
  },
  {
   "cell_type": "code",
   "execution_count": 2,
   "metadata": {
    "collapsed": true
   },
   "outputs": [],
   "source": [
    "import pickle\n",
    "data_folder = pfad + \"/data/\"\n",
    "events_plot_folder = data_folder+\"plots/events/\"\n",
    "single_trial_folder = data_folder+\"plots/single_trials/\"\n",
    "complete_plot_folder = data_folder+\"plots/complete_exp/\"\n",
    "test_plots_folder = data_folder +\"plots/test/\"\n",
    "ensure_dir(events_plot_folder)\n",
    "ensure_dir(single_trial_folder)\n",
    "ensure_dir(complete_plot_folder)\n",
    "ensure_dir(test_plots_folder)\n",
    "csv_data_path = data_folder+\"csv/{}.csv\"\n",
    "channel_names = ['F3', 'FZ', 'F4', 'C3', 'CZ', 'C4', 'P3', 'PZ','P4']\n",
    "event_labels = ['beat', 'brook', 'nat']\n",
    "labeled_data = pickle.load(open(data_folder+\"labeled_data.pkl\", \"rb\"))\n",
    "sfreq = 512"
   ]
  },
  {
   "cell_type": "code",
   "execution_count": 88,
   "metadata": {},
   "outputs": [
    {
     "name": "stdout",
     "output_type": "stream",
     "text": [
      "Projections have already been applied. Setting proj attribute to True.\n"
     ]
    },
    {
     "name": "stderr",
     "output_type": "stream",
     "text": [
      "<ipython-input-88-e775f712eed9>:2: RuntimeWarning: An average reference projection was already added. The data has been left untouched.\n",
      "  raw = raw.set_eeg_reference('average', projection=True)\n"
     ]
    },
    {
     "data": {
      "text/plain": [
       "<RawArray  |  None, n_channels x n_times : 9 x 36864 (72.0 sec), ~2.6 MB, data loaded>"
      ]
     },
     "execution_count": 88,
     "metadata": {},
     "output_type": "execute_result"
    }
   ],
   "source": [
    "raw = labeled_data['beat'][11][0]\n",
    "raw = raw.set_eeg_reference('average', projection=True)\n",
    "raw.apply_proj()\n"
   ]
  },
  {
   "cell_type": "code",
   "execution_count": 143,
   "metadata": {},
   "outputs": [
    {
     "data": {
      "text/plain": [
       "24"
      ]
     },
     "execution_count": 143,
     "metadata": {},
     "output_type": "execute_result"
    }
   ],
   "source": [
    "len(labeled_data['brook'])"
   ]
  },
  {
   "cell_type": "code",
   "execution_count": null,
   "metadata": {
    "collapsed": true
   },
   "outputs": [],
   "source": []
  },
  {
   "cell_type": "code",
   "execution_count": null,
   "metadata": {
    "collapsed": true
   },
   "outputs": [],
   "source": []
  },
  {
   "cell_type": "code",
   "execution_count": 93,
   "metadata": {},
   "outputs": [
    {
     "name": "stdout",
     "output_type": "stream",
     "text": [
      "    Using multitaper spectrum estimation with 7 DPSS windows\n"
     ]
    }
   ],
   "source": [
    "psds, freqs = psd_multitaper(raw, fmin=2., fmax=40.)\n",
    "psds = 10. * np.log10(psds)\n",
    "plt.plot(freqs,psds.mean(0))"
   ]
  },
  {
   "cell_type": "code",
   "execution_count": 132,
   "metadata": {
    "collapsed": true
   },
   "outputs": [],
   "source": [
    "low = np.argwhere(freqs==2)[0][0]\n",
    "high = np.argwhere(freqs==8)[0][0]\n",
    "psd_bands = psds[:,low:high].mean(1)"
   ]
  },
  {
   "cell_type": "code",
   "execution_count": 133,
   "metadata": {
    "collapsed": true
   },
   "outputs": [],
   "source": [
    "low = np.argwhere(freqs==8)[0][0]\n",
    "high = np.argwhere(freqs==13)[0][0]\n",
    "a = np.vstack((psd_bands, psds[:,low:high].mean(1), psds[:,low:high].mean(1)))\n"
   ]
  },
  {
   "cell_type": "code",
   "execution_count": 135,
   "metadata": {},
   "outputs": [
    {
     "data": {
      "text/plain": [
       "(3, 9)"
      ]
     },
     "execution_count": 135,
     "metadata": {},
     "output_type": "execute_result"
    }
   ],
   "source": [
    "a.shape"
   ]
  },
  {
   "cell_type": "code",
   "execution_count": 3,
   "metadata": {
    "collapsed": true
   },
   "outputs": [],
   "source": [
    "def create_avgpowers(raw):\n",
    "    #calculate power spectral density\n",
    "    raw = raw.set_eeg_reference('average', projection=True)\n",
    "    raw.apply_proj()\n",
    "    psds, freqs = psd_multitaper(raw, fmin=2., fmax=40.)\n",
    "    psds = 10. * np.log10(psds)\n",
    "\n",
    "    # get limits\n",
    "    Hz_8 = np.argwhere(np.floor(freqs)==8.)[0][0]\n",
    "    Hz_13 = np.argwhere(np.floor(freqs)==13.)[0][0]\n",
    "    Hz_30 = np.argwhere(np.floor(freqs)==30.)[0][0]\n",
    "    \n",
    "    # theta 2-8 Hz\n",
    "    theta = psds[:, :Hz_8].mean(1)\n",
    "    # alpha 8-13 Hz\n",
    "    alpha = psds[:, Hz_8:Hz_13].mean(1)\n",
    "    # beta 13-30 Hz\n",
    "    beta = psds[:, Hz_13:Hz_30].mean(1)\n",
    "    # gamma 30-40 Hz\n",
    "    gamma = psds[:, Hz_30:].mean(1)\n",
    "    \n",
    "    # returns matrix: channels x frequency bands(theta, alpha, beta, gamma)\n",
    "    # -> 9 x 4\n",
    "    psd_avg = np.vstack((theta, alpha, beta, gamma)).T\n",
    "    \n",
    "    return psd_avg"
   ]
  },
  {
   "cell_type": "code",
   "execution_count": 191,
   "metadata": {},
   "outputs": [
    {
     "name": "stdout",
     "output_type": "stream",
     "text": [
      "    Using multitaper spectrum estimation with 7 DPSS windows\n"
     ]
    },
    {
     "data": {
      "text/plain": [
       "array([[40.3922851 , 36.09189311, 35.38269548, 34.54597004],\n",
       "       [40.87135568, 36.62614994, 35.68538262, 34.67302063],\n",
       "       [41.05720718, 36.88890704, 35.9141979 , 34.96033432],\n",
       "       [38.53355182, 35.42890154, 35.36526313, 34.43445403],\n",
       "       [38.50510775, 36.07814584, 35.72043688, 34.6545248 ],\n",
       "       [43.27958618, 38.04667368, 36.33932968, 35.27866528],\n",
       "       [36.97436878, 35.35926692, 35.65609577, 34.75294106],\n",
       "       [37.87726937, 36.73006506, 36.30992313, 35.10255482],\n",
       "       [37.39998467, 36.84319405, 36.70175336, 35.56958576]])"
      ]
     },
     "execution_count": 191,
     "metadata": {},
     "output_type": "execute_result"
    }
   ],
   "source": [
    "raw = labeled_data['brook'][3][0]\n",
    "PSD = create_avgpowers(raw)\n",
    "PSD"
   ]
  },
  {
   "cell_type": "code",
   "execution_count": 9,
   "metadata": {},
   "outputs": [
    {
     "name": "stdout",
     "output_type": "stream",
     "text": [
      "Adding average EEG reference projection.\n",
      "1 projection items deactivated\n",
      "Average reference projection was added, but has not been applied yet. Use the apply_proj method to apply it.\n",
      "Created an SSP operator (subspace dimension = 1)\n",
      "1 projection items activated\n",
      "SSP projectors applied...\n",
      "    Using multitaper spectrum estimation with 7 DPSS windows\n"
     ]
    },
    {
     "data": {
      "text/plain": [
       "[<matplotlib.lines.Line2D at 0x134c3f358>]"
      ]
     },
     "execution_count": 9,
     "metadata": {},
     "output_type": "execute_result"
    },
    {
     "data": {
      "image/png": "[encoded data removed]",
      "text/plain": [
       "<Figure size 432x288 with 1 Axes>"
      ]
     },
     "metadata": {
      "needs_background": "light"
     },
     "output_type": "display_data"
    }
   ],
   "source": [
    "raw = labeled_data['nat'][13][0]\n",
    "raw = raw.set_eeg_reference('average', projection=True)\n",
    "raw.apply_proj()\n",
    "psds, freqs = psd_multitaper(raw, fmin=2., fmax=40.)\n",
    "psds = 10. * np.log10(psds)\n",
    "plt.plot(freqs,psds[0])"
   ]
  },
  {
   "cell_type": "code",
   "execution_count": 198,
   "metadata": {},
   "outputs": [
    {
     "name": "stdout",
     "output_type": "stream",
     "text": [
      "brook\n",
      "Adding average EEG reference projection.\n",
      "1 projection items deactivated\n",
      "Average reference projection was added, but has not been applied yet. Use the apply_proj method to apply it.\n",
      "Created an SSP operator (subspace dimension = 1)\n",
      "1 projection items activated\n",
      "SSP projectors applied...\n",
      "    Using multitaper spectrum estimation with 7 DPSS windows\n",
      "Adding average EEG reference projection.\n",
      "1 projection items deactivated\n",
      "Average reference projection was added, but has not been applied yet. Use the apply_proj method to apply it.\n",
      "Created an SSP operator (subspace dimension = 1)\n",
      "1 projection items activated\n",
      "SSP projectors applied...\n",
      "    Using multitaper spectrum estimation with 7 DPSS windows\n",
      "Adding average EEG reference projection.\n",
      "1 projection items deactivated\n",
      "Average reference projection was added, but has not been applied yet. Use the apply_proj method to apply it.\n",
      "Created an SSP operator (subspace dimension = 1)\n",
      "1 projection items activated\n",
      "SSP projectors applied...\n",
      "    Using multitaper spectrum estimation with 7 DPSS windows\n",
      "Projections have already been applied. Setting proj attribute to True.\n"
     ]
    },
    {
     "name": "stderr",
     "output_type": "stream",
     "text": [
      "<ipython-input-197-2c7b64c0ee1a>:3: RuntimeWarning: An average reference projection was already added. The data has been left untouched.\n",
      "  raw = raw.set_eeg_reference('average', projection=True)\n"
     ]
    },
    {
     "name": "stdout",
     "output_type": "stream",
     "text": [
      "    Using multitaper spectrum estimation with 7 DPSS windows\n",
      "Projections have already been applied. Setting proj attribute to True.\n"
     ]
    },
    {
     "name": "stderr",
     "output_type": "stream",
     "text": [
      "<ipython-input-197-2c7b64c0ee1a>:3: RuntimeWarning: An average reference projection was already added. The data has been left untouched.\n",
      "  raw = raw.set_eeg_reference('average', projection=True)\n"
     ]
    },
    {
     "name": "stdout",
     "output_type": "stream",
     "text": [
      "    Using multitaper spectrum estimation with 7 DPSS windows\n",
      "Adding average EEG reference projection.\n",
      "1 projection items deactivated\n",
      "Average reference projection was added, but has not been applied yet. Use the apply_proj method to apply it.\n",
      "Created an SSP operator (subspace dimension = 1)\n",
      "1 projection items activated\n",
      "SSP projectors applied...\n",
      "    Using multitaper spectrum estimation with 7 DPSS windows\n",
      "Adding average EEG reference projection.\n",
      "1 projection items deactivated\n",
      "Average reference projection was added, but has not been applied yet. Use the apply_proj method to apply it.\n",
      "Created an SSP operator (subspace dimension = 1)\n",
      "1 projection items activated\n",
      "SSP projectors applied...\n",
      "    Using multitaper spectrum estimation with 7 DPSS windows\n",
      "Adding average EEG reference projection.\n",
      "1 projection items deactivated\n",
      "Average reference projection was added, but has not been applied yet. Use the apply_proj method to apply it.\n",
      "Created an SSP operator (subspace dimension = 1)\n",
      "1 projection items activated\n",
      "SSP projectors applied...\n",
      "    Using multitaper spectrum estimation with 7 DPSS windows\n",
      "Projections have already been applied. Setting proj attribute to True.\n"
     ]
    },
    {
     "name": "stderr",
     "output_type": "stream",
     "text": [
      "<ipython-input-197-2c7b64c0ee1a>:3: RuntimeWarning: An average reference projection was already added. The data has been left untouched.\n",
      "  raw = raw.set_eeg_reference('average', projection=True)\n"
     ]
    },
    {
     "name": "stdout",
     "output_type": "stream",
     "text": [
      "    Using multitaper spectrum estimation with 7 DPSS windows\n",
      "Adding average EEG reference projection.\n",
      "1 projection items deactivated\n",
      "Average reference projection was added, but has not been applied yet. Use the apply_proj method to apply it.\n",
      "Created an SSP operator (subspace dimension = 1)\n",
      "1 projection items activated\n",
      "SSP projectors applied...\n",
      "    Using multitaper spectrum estimation with 7 DPSS windows\n",
      "Adding average EEG reference projection.\n",
      "1 projection items deactivated\n",
      "Average reference projection was added, but has not been applied yet. Use the apply_proj method to apply it.\n",
      "Created an SSP operator (subspace dimension = 1)\n",
      "1 projection items activated\n",
      "SSP projectors applied...\n",
      "    Using multitaper spectrum estimation with 7 DPSS windows\n",
      "Projections have already been applied. Setting proj attribute to True.\n"
     ]
    },
    {
     "name": "stderr",
     "output_type": "stream",
     "text": [
      "<ipython-input-197-2c7b64c0ee1a>:3: RuntimeWarning: An average reference projection was already added. The data has been left untouched.\n",
      "  raw = raw.set_eeg_reference('average', projection=True)\n"
     ]
    },
    {
     "name": "stdout",
     "output_type": "stream",
     "text": [
      "    Using multitaper spectrum estimation with 7 DPSS windows\n",
      "Projections have already been applied. Setting proj attribute to True.\n"
     ]
    },
    {
     "name": "stderr",
     "output_type": "stream",
     "text": [
      "<ipython-input-197-2c7b64c0ee1a>:3: RuntimeWarning: An average reference projection was already added. The data has been left untouched.\n",
      "  raw = raw.set_eeg_reference('average', projection=True)\n"
     ]
    },
    {
     "name": "stdout",
     "output_type": "stream",
     "text": [
      "    Using multitaper spectrum estimation with 7 DPSS windows\n",
      "Adding average EEG reference projection.\n",
      "1 projection items deactivated\n",
      "Average reference projection was added, but has not been applied yet. Use the apply_proj method to apply it.\n",
      "Created an SSP operator (subspace dimension = 1)\n",
      "1 projection items activated\n",
      "SSP projectors applied...\n",
      "    Using multitaper spectrum estimation with 7 DPSS windows\n",
      "Adding average EEG reference projection.\n",
      "1 projection items deactivated\n",
      "Average reference projection was added, but has not been applied yet. Use the apply_proj method to apply it.\n",
      "Created an SSP operator (subspace dimension = 1)\n",
      "1 projection items activated\n",
      "SSP projectors applied...\n",
      "    Using multitaper spectrum estimation with 7 DPSS windows\n",
      "Adding average EEG reference projection.\n",
      "1 projection items deactivated\n",
      "Average reference projection was added, but has not been applied yet. Use the apply_proj method to apply it.\n",
      "Created an SSP operator (subspace dimension = 1)\n",
      "1 projection items activated\n",
      "SSP projectors applied...\n",
      "    Using multitaper spectrum estimation with 7 DPSS windows\n",
      "Adding average EEG reference projection.\n",
      "1 projection items deactivated\n",
      "Average reference projection was added, but has not been applied yet. Use the apply_proj method to apply it.\n",
      "Created an SSP operator (subspace dimension = 1)\n",
      "1 projection items activated\n",
      "SSP projectors applied...\n",
      "    Using multitaper spectrum estimation with 7 DPSS windows\n",
      "Adding average EEG reference projection.\n",
      "1 projection items deactivated\n",
      "Average reference projection was added, but has not been applied yet. Use the apply_proj method to apply it.\n",
      "Created an SSP operator (subspace dimension = 1)\n",
      "1 projection items activated\n",
      "SSP projectors applied...\n",
      "    Using multitaper spectrum estimation with 7 DPSS windows\n",
      "Adding average EEG reference projection.\n",
      "1 projection items deactivated\n",
      "Average reference projection was added, but has not been applied yet. Use the apply_proj method to apply it.\n",
      "Created an SSP operator (subspace dimension = 1)\n",
      "1 projection items activated\n",
      "SSP projectors applied...\n",
      "    Using multitaper spectrum estimation with 7 DPSS windows\n",
      "Adding average EEG reference projection.\n",
      "1 projection items deactivated\n",
      "Average reference projection was added, but has not been applied yet. Use the apply_proj method to apply it.\n",
      "Created an SSP operator (subspace dimension = 1)\n",
      "1 projection items activated\n",
      "SSP projectors applied...\n",
      "    Using multitaper spectrum estimation with 7 DPSS windows\n",
      "Adding average EEG reference projection.\n",
      "1 projection items deactivated\n",
      "Average reference projection was added, but has not been applied yet. Use the apply_proj method to apply it.\n",
      "Created an SSP operator (subspace dimension = 1)\n",
      "1 projection items activated\n",
      "SSP projectors applied...\n",
      "    Using multitaper spectrum estimation with 7 DPSS windows\n",
      "Adding average EEG reference projection.\n",
      "1 projection items deactivated\n",
      "Average reference projection was added, but has not been applied yet. Use the apply_proj method to apply it.\n",
      "Created an SSP operator (subspace dimension = 1)\n",
      "1 projection items activated\n",
      "SSP projectors applied...\n",
      "    Using multitaper spectrum estimation with 7 DPSS windows\n",
      "Adding average EEG reference projection.\n",
      "1 projection items deactivated\n",
      "Average reference projection was added, but has not been applied yet. Use the apply_proj method to apply it.\n",
      "Created an SSP operator (subspace dimension = 1)\n",
      "1 projection items activated\n",
      "SSP projectors applied...\n",
      "    Using multitaper spectrum estimation with 7 DPSS windows\n",
      "Adding average EEG reference projection.\n",
      "1 projection items deactivated\n",
      "Average reference projection was added, but has not been applied yet. Use the apply_proj method to apply it.\n",
      "Created an SSP operator (subspace dimension = 1)\n",
      "1 projection items activated\n",
      "SSP projectors applied...\n",
      "    Using multitaper spectrum estimation with 7 DPSS windows\n",
      "beat\n",
      "Adding average EEG reference projection.\n",
      "1 projection items deactivated\n",
      "Average reference projection was added, but has not been applied yet. Use the apply_proj method to apply it.\n",
      "Created an SSP operator (subspace dimension = 1)\n",
      "1 projection items activated\n",
      "SSP projectors applied...\n",
      "    Using multitaper spectrum estimation with 7 DPSS windows\n",
      "Adding average EEG reference projection.\n",
      "1 projection items deactivated\n",
      "Average reference projection was added, but has not been applied yet. Use the apply_proj method to apply it.\n",
      "Created an SSP operator (subspace dimension = 1)\n",
      "1 projection items activated\n",
      "SSP projectors applied...\n",
      "    Using multitaper spectrum estimation with 7 DPSS windows\n",
      "Adding average EEG reference projection.\n",
      "1 projection items deactivated\n",
      "Average reference projection was added, but has not been applied yet. Use the apply_proj method to apply it.\n",
      "Created an SSP operator (subspace dimension = 1)\n",
      "1 projection items activated\n",
      "SSP projectors applied...\n",
      "    Using multitaper spectrum estimation with 7 DPSS windows\n",
      "Adding average EEG reference projection.\n",
      "1 projection items deactivated\n",
      "Average reference projection was added, but has not been applied yet. Use the apply_proj method to apply it.\n",
      "Created an SSP operator (subspace dimension = 1)\n",
      "1 projection items activated\n",
      "SSP projectors applied...\n",
      "    Using multitaper spectrum estimation with 7 DPSS windows\n",
      "Adding average EEG reference projection.\n",
      "1 projection items deactivated\n",
      "Average reference projection was added, but has not been applied yet. Use the apply_proj method to apply it.\n",
      "Created an SSP operator (subspace dimension = 1)\n",
      "1 projection items activated\n",
      "SSP projectors applied...\n",
      "    Using multitaper spectrum estimation with 7 DPSS windows\n",
      "Adding average EEG reference projection.\n",
      "1 projection items deactivated\n",
      "Average reference projection was added, but has not been applied yet. Use the apply_proj method to apply it.\n",
      "Created an SSP operator (subspace dimension = 1)\n",
      "1 projection items activated\n",
      "SSP projectors applied...\n",
      "    Using multitaper spectrum estimation with 7 DPSS windows\n",
      "Adding average EEG reference projection.\n",
      "1 projection items deactivated\n",
      "Average reference projection was added, but has not been applied yet. Use the apply_proj method to apply it.\n",
      "Created an SSP operator (subspace dimension = 1)\n",
      "1 projection items activated\n",
      "SSP projectors applied...\n",
      "    Using multitaper spectrum estimation with 7 DPSS windows\n",
      "Adding average EEG reference projection.\n",
      "1 projection items deactivated\n",
      "Average reference projection was added, but has not been applied yet. Use the apply_proj method to apply it.\n",
      "Created an SSP operator (subspace dimension = 1)\n",
      "1 projection items activated\n",
      "SSP projectors applied...\n",
      "    Using multitaper spectrum estimation with 7 DPSS windows\n",
      "Adding average EEG reference projection.\n",
      "1 projection items deactivated\n",
      "Average reference projection was added, but has not been applied yet. Use the apply_proj method to apply it.\n",
      "Created an SSP operator (subspace dimension = 1)\n",
      "1 projection items activated\n",
      "SSP projectors applied...\n",
      "    Using multitaper spectrum estimation with 7 DPSS windows\n",
      "Adding average EEG reference projection.\n",
      "1 projection items deactivated\n",
      "Average reference projection was added, but has not been applied yet. Use the apply_proj method to apply it.\n",
      "Created an SSP operator (subspace dimension = 1)\n",
      "1 projection items activated\n",
      "SSP projectors applied...\n",
      "    Using multitaper spectrum estimation with 7 DPSS windows\n",
      "Adding average EEG reference projection.\n",
      "1 projection items deactivated\n",
      "Average reference projection was added, but has not been applied yet. Use the apply_proj method to apply it.\n",
      "Created an SSP operator (subspace dimension = 1)\n",
      "1 projection items activated\n",
      "SSP projectors applied...\n",
      "    Using multitaper spectrum estimation with 7 DPSS windows\n",
      "Projections have already been applied. Setting proj attribute to True.\n"
     ]
    },
    {
     "name": "stderr",
     "output_type": "stream",
     "text": [
      "<ipython-input-197-2c7b64c0ee1a>:3: RuntimeWarning: An average reference projection was already added. The data has been left untouched.\n",
      "  raw = raw.set_eeg_reference('average', projection=True)\n"
     ]
    },
    {
     "name": "stdout",
     "output_type": "stream",
     "text": [
      "    Using multitaper spectrum estimation with 7 DPSS windows\n",
      "Adding average EEG reference projection.\n",
      "1 projection items deactivated\n",
      "Average reference projection was added, but has not been applied yet. Use the apply_proj method to apply it.\n",
      "Created an SSP operator (subspace dimension = 1)\n",
      "1 projection items activated\n",
      "SSP projectors applied...\n",
      "    Using multitaper spectrum estimation with 7 DPSS windows\n",
      "Adding average EEG reference projection.\n",
      "1 projection items deactivated\n",
      "Average reference projection was added, but has not been applied yet. Use the apply_proj method to apply it.\n",
      "Created an SSP operator (subspace dimension = 1)\n",
      "1 projection items activated\n",
      "SSP projectors applied...\n",
      "    Using multitaper spectrum estimation with 7 DPSS windows\n",
      "Adding average EEG reference projection.\n",
      "1 projection items deactivated\n",
      "Average reference projection was added, but has not been applied yet. Use the apply_proj method to apply it.\n",
      "Created an SSP operator (subspace dimension = 1)\n",
      "1 projection items activated\n",
      "SSP projectors applied...\n",
      "    Using multitaper spectrum estimation with 7 DPSS windows\n",
      "Adding average EEG reference projection.\n",
      "1 projection items deactivated\n",
      "Average reference projection was added, but has not been applied yet. Use the apply_proj method to apply it.\n",
      "Created an SSP operator (subspace dimension = 1)\n",
      "1 projection items activated\n",
      "SSP projectors applied...\n",
      "    Using multitaper spectrum estimation with 7 DPSS windows\n",
      "Adding average EEG reference projection.\n",
      "1 projection items deactivated\n",
      "Average reference projection was added, but has not been applied yet. Use the apply_proj method to apply it.\n",
      "Created an SSP operator (subspace dimension = 1)\n",
      "1 projection items activated\n",
      "SSP projectors applied...\n",
      "    Using multitaper spectrum estimation with 7 DPSS windows\n",
      "Adding average EEG reference projection.\n",
      "1 projection items deactivated\n",
      "Average reference projection was added, but has not been applied yet. Use the apply_proj method to apply it.\n",
      "Created an SSP operator (subspace dimension = 1)\n",
      "1 projection items activated\n",
      "SSP projectors applied...\n",
      "    Using multitaper spectrum estimation with 7 DPSS windows\n",
      "Adding average EEG reference projection.\n",
      "1 projection items deactivated\n",
      "Average reference projection was added, but has not been applied yet. Use the apply_proj method to apply it.\n",
      "Created an SSP operator (subspace dimension = 1)\n",
      "1 projection items activated\n",
      "SSP projectors applied...\n",
      "    Using multitaper spectrum estimation with 7 DPSS windows\n",
      "Adding average EEG reference projection.\n",
      "1 projection items deactivated\n",
      "Average reference projection was added, but has not been applied yet. Use the apply_proj method to apply it.\n",
      "Created an SSP operator (subspace dimension = 1)\n",
      "1 projection items activated\n",
      "SSP projectors applied...\n",
      "    Using multitaper spectrum estimation with 7 DPSS windows\n",
      "nat\n",
      "Adding average EEG reference projection.\n",
      "1 projection items deactivated\n",
      "Average reference projection was added, but has not been applied yet. Use the apply_proj method to apply it.\n",
      "Created an SSP operator (subspace dimension = 1)\n",
      "1 projection items activated\n",
      "SSP projectors applied...\n",
      "    Using multitaper spectrum estimation with 7 DPSS windows\n",
      "Adding average EEG reference projection.\n",
      "1 projection items deactivated\n",
      "Average reference projection was added, but has not been applied yet. Use the apply_proj method to apply it.\n",
      "Created an SSP operator (subspace dimension = 1)\n",
      "1 projection items activated\n",
      "SSP projectors applied...\n",
      "    Using multitaper spectrum estimation with 7 DPSS windows\n",
      "Adding average EEG reference projection.\n",
      "1 projection items deactivated\n",
      "Average reference projection was added, but has not been applied yet. Use the apply_proj method to apply it.\n",
      "Created an SSP operator (subspace dimension = 1)\n",
      "1 projection items activated\n",
      "SSP projectors applied...\n",
      "    Using multitaper spectrum estimation with 7 DPSS windows\n",
      "Adding average EEG reference projection.\n",
      "1 projection items deactivated\n",
      "Average reference projection was added, but has not been applied yet. Use the apply_proj method to apply it.\n",
      "Created an SSP operator (subspace dimension = 1)\n",
      "1 projection items activated\n",
      "SSP projectors applied...\n",
      "    Using multitaper spectrum estimation with 7 DPSS windows\n",
      "Adding average EEG reference projection.\n",
      "1 projection items deactivated\n",
      "Average reference projection was added, but has not been applied yet. Use the apply_proj method to apply it.\n",
      "Created an SSP operator (subspace dimension = 1)\n",
      "1 projection items activated\n",
      "SSP projectors applied...\n",
      "    Using multitaper spectrum estimation with 7 DPSS windows\n",
      "Adding average EEG reference projection.\n",
      "1 projection items deactivated\n",
      "Average reference projection was added, but has not been applied yet. Use the apply_proj method to apply it.\n",
      "Created an SSP operator (subspace dimension = 1)\n",
      "1 projection items activated\n",
      "SSP projectors applied...\n",
      "    Using multitaper spectrum estimation with 7 DPSS windows\n",
      "Adding average EEG reference projection.\n",
      "1 projection items deactivated\n",
      "Average reference projection was added, but has not been applied yet. Use the apply_proj method to apply it.\n",
      "Created an SSP operator (subspace dimension = 1)\n",
      "1 projection items activated\n",
      "SSP projectors applied...\n",
      "    Using multitaper spectrum estimation with 7 DPSS windows\n",
      "Adding average EEG reference projection.\n",
      "1 projection items deactivated\n",
      "Average reference projection was added, but has not been applied yet. Use the apply_proj method to apply it.\n",
      "Created an SSP operator (subspace dimension = 1)\n",
      "1 projection items activated\n",
      "SSP projectors applied...\n",
      "    Using multitaper spectrum estimation with 7 DPSS windows\n",
      "Adding average EEG reference projection.\n",
      "1 projection items deactivated\n",
      "Average reference projection was added, but has not been applied yet. Use the apply_proj method to apply it.\n",
      "Created an SSP operator (subspace dimension = 1)\n",
      "1 projection items activated\n",
      "SSP projectors applied...\n",
      "    Using multitaper spectrum estimation with 7 DPSS windows\n",
      "Adding average EEG reference projection.\n",
      "1 projection items deactivated\n",
      "Average reference projection was added, but has not been applied yet. Use the apply_proj method to apply it.\n",
      "Created an SSP operator (subspace dimension = 1)\n",
      "1 projection items activated\n",
      "SSP projectors applied...\n",
      "    Using multitaper spectrum estimation with 7 DPSS windows\n",
      "Adding average EEG reference projection.\n",
      "1 projection items deactivated\n",
      "Average reference projection was added, but has not been applied yet. Use the apply_proj method to apply it.\n",
      "Created an SSP operator (subspace dimension = 1)\n",
      "1 projection items activated\n",
      "SSP projectors applied...\n",
      "    Using multitaper spectrum estimation with 7 DPSS windows\n",
      "Projections have already been applied. Setting proj attribute to True.\n"
     ]
    },
    {
     "name": "stderr",
     "output_type": "stream",
     "text": [
      "<ipython-input-197-2c7b64c0ee1a>:3: RuntimeWarning: An average reference projection was already added. The data has been left untouched.\n",
      "  raw = raw.set_eeg_reference('average', projection=True)\n"
     ]
    },
    {
     "name": "stdout",
     "output_type": "stream",
     "text": [
      "    Using multitaper spectrum estimation with 7 DPSS windows\n",
      "Adding average EEG reference projection.\n",
      "1 projection items deactivated\n",
      "Average reference projection was added, but has not been applied yet. Use the apply_proj method to apply it.\n",
      "Created an SSP operator (subspace dimension = 1)\n",
      "1 projection items activated\n",
      "SSP projectors applied...\n",
      "    Using multitaper spectrum estimation with 7 DPSS windows\n",
      "Adding average EEG reference projection.\n",
      "1 projection items deactivated\n",
      "Average reference projection was added, but has not been applied yet. Use the apply_proj method to apply it.\n",
      "Created an SSP operator (subspace dimension = 1)\n",
      "1 projection items activated\n",
      "SSP projectors applied...\n",
      "    Using multitaper spectrum estimation with 7 DPSS windows\n",
      "Adding average EEG reference projection.\n",
      "1 projection items deactivated\n",
      "Average reference projection was added, but has not been applied yet. Use the apply_proj method to apply it.\n",
      "Created an SSP operator (subspace dimension = 1)\n",
      "1 projection items activated\n",
      "SSP projectors applied...\n",
      "    Using multitaper spectrum estimation with 7 DPSS windows\n",
      "Adding average EEG reference projection.\n",
      "1 projection items deactivated\n",
      "Average reference projection was added, but has not been applied yet. Use the apply_proj method to apply it.\n",
      "Created an SSP operator (subspace dimension = 1)\n",
      "1 projection items activated\n",
      "SSP projectors applied...\n",
      "    Using multitaper spectrum estimation with 7 DPSS windows\n",
      "Adding average EEG reference projection.\n",
      "1 projection items deactivated\n",
      "Average reference projection was added, but has not been applied yet. Use the apply_proj method to apply it.\n",
      "Created an SSP operator (subspace dimension = 1)\n",
      "1 projection items activated\n",
      "SSP projectors applied...\n",
      "    Using multitaper spectrum estimation with 7 DPSS windows\n",
      "Adding average EEG reference projection.\n",
      "1 projection items deactivated\n",
      "Average reference projection was added, but has not been applied yet. Use the apply_proj method to apply it.\n",
      "Created an SSP operator (subspace dimension = 1)\n",
      "1 projection items activated\n",
      "SSP projectors applied...\n",
      "    Using multitaper spectrum estimation with 7 DPSS windows\n"
     ]
    }
   ],
   "source": [
    "psd_labeled_data = {'beat':[], 'brook': [], 'nat': []}\n",
    "for game, trials in labeled_data.items():\n",
    "    print(game)\n",
    "    for [raw, label] in trials:\n",
    "        psd = create_avgpowers(raw)\n",
    "        psd_labeled_data[game].append([psd, label])\n",
    "\n",
    "import pickle\n",
    "pickle.dump(psd_labeled_data, open(data_folder+\"psd_labeled_data.pkl\", \"wb\"))"
   ]
  },
  {
   "cell_type": "code",
   "execution_count": 204,
   "metadata": {
    "collapsed": true
   },
   "outputs": [],
   "source": [
    "[X,y] = psd_labeled_data['beat'][3]"
   ]
  },
  {
   "cell_type": "code",
   "execution_count": 207,
   "metadata": {},
   "outputs": [
    {
     "data": {
      "text/plain": [
       "array([[72.66303709, 57.06484825, 43.75931683, 36.0237986 ],\n",
       "       [54.57054073, 39.38423277, 27.31470118, 20.76881144],\n",
       "       [54.58593074, 39.61109371, 28.44730706, 24.13328244],\n",
       "       [54.62185971, 39.08200203, 27.34884272, 21.48816691],\n",
       "       [54.62113845, 39.02873818, 26.25989457, 18.76258041],\n",
       "       [54.62007398, 39.31383432, 27.53653111, 21.94933411],\n",
       "       [54.66078006, 39.10430365, 27.97653976, 23.39324744],\n",
       "       [54.69571305, 39.21006033, 27.48467312, 21.88886345],\n",
       "       [54.67696596, 39.34046294, 28.0547913 , 23.34644935]])"
      ]
     },
     "execution_count": 207,
     "metadata": {},
     "output_type": "execute_result"
    }
   ],
   "source": [
    "X"
   ]
  },
  {
   "cell_type": "code",
   "execution_count": 211,
   "metadata": {},
   "outputs": [
    {
     "data": {
      "text/plain": [
       "array([72.66303709, 54.57054073, 54.58593074, 54.62185971, 54.62113845,\n",
       "       54.62007398, 54.66078006, 54.69571305, 54.67696596, 57.06484825,\n",
       "       39.38423277, 39.61109371, 39.08200203, 39.02873818, 39.31383432,\n",
       "       39.10430365, 39.21006033, 39.34046294, 43.75931683, 27.31470118,\n",
       "       28.44730706, 27.34884272, 26.25989457, 27.53653111, 27.97653976,\n",
       "       27.48467312, 28.0547913 , 36.0237986 , 20.76881144, 24.13328244,\n",
       "       21.48816691, 18.76258041, 21.94933411, 23.39324744, 21.88886345,\n",
       "       23.34644935])"
      ]
     },
     "execution_count": 211,
     "metadata": {},
     "output_type": "execute_result"
    }
   ],
   "source": [
    "X.flatten()"
   ]
  },
  {
   "cell_type": "markdown",
   "metadata": {},
   "source": [
    "### Visualize a trial"
   ]
  },
  {
   "cell_type": "code",
   "execution_count": 3,
   "metadata": {
    "collapsed": true,
    "scrolled": true
   },
   "outputs": [],
   "source": [
    "import matplotlib.pyplot as plt\n",
    "import plotly.offline as offline\n",
    "import plotly.plotly as py\n",
    "from plotly import tools\n",
    "from plotly.graph_objs import Layout, YAxis, Scattergl, Annotation, Annotations, Data, Figure, Marker, Font\n",
    "def visualize_trial(raw, title, start=None, stop=None, lfreq=None, hfreq=None, ch_names=channel_names, apply_proj=False):\n",
    "    \"\"\"\n",
    "    Draw a trial using plotly\n",
    "    Arguments:\n",
    "        raw: mne raw data object\n",
    "        start: start second\n",
    "        end: end second\n",
    "        lfreq: lowfreq filter\n",
    "        hfreq: high freq filter\n",
    "        ch_names: name of channels used for plotting\n",
    "        apply_proj: bool applies an average subtraction filter\n",
    "    \"\"\"\n",
    "    \n",
    "    if apply_proj:\n",
    "        raw = raw.set_eeg_reference('average', projection=True)\n",
    "        raw.apply_proj()\n",
    "    if start and stop:\n",
    "        start, stop = raw.time_as_index([start, stop])\n",
    "        data, times = raw[:, start:stop]\n",
    "    else:\n",
    "        data, times = raw[:, :]\n",
    "    if lfreq and hfreq:\n",
    "        raw.filter(lfreq, hfreq, n_jobs=-1)\n",
    "        \n",
    "    n_channels = raw.get_data().shape[0]\n",
    "    step = 1. / n_channels\n",
    "    kwargs = dict(domain=[1 - step, 1], showticklabels=False, zeroline=False, showgrid=False)\n",
    "\n",
    "    # create objects for layout and traces\n",
    "    layout = Layout(yaxis=YAxis(kwargs), showlegend=False, title = title, template='plotly_dark')\n",
    "    traces = [Scattergl(x=times, y=data.T[:, 0])]\n",
    "\n",
    "    # loop over the channels\n",
    "    for ii in range(1, n_channels):\n",
    "            kwargs.update(domain=[1 - (ii + 1) * step, 1 - ii * step])\n",
    "            layout.update({'yaxis%d' % (ii + 1): YAxis(kwargs), 'showlegend': False})\n",
    "            traces.append(Scattergl(x=times, y=data.T[:, ii], yaxis='y%d' % (ii + 1)))\n",
    "\n",
    "    # add channel names using Annotations\n",
    "    annotations = Annotations([Annotation(x=-0.06, y=0, xref='paper', yref='y%d' % (ii + 1),\n",
    "                                          text=ch_name, font=Font(size=9), showarrow=False)\n",
    "                              for ii, ch_name in enumerate(ch_names)])\n",
    "    layout.update(annotations=annotations)\n",
    "\n",
    "    # set the size of the figure and plot it\n",
    "    layout.update(autosize=False, width=1000, height=600)\n",
    "    fig = Figure(data=Data(traces), layout=layout)\n",
    "    return fig"
   ]
  },
  {
   "cell_type": "markdown",
   "metadata": {},
   "source": [
    "### Visualize one trial"
   ]
  },
  {
   "cell_type": "code",
   "execution_count": 6,
   "metadata": {},
   "outputs": [
    {
     "name": "stdout",
     "output_type": "stream",
     "text": [
      "Projections have already been applied. Setting proj attribute to True.\n",
      "Setting up band-pass filter from 10 - 50 Hz\n",
      "l_trans_bandwidth chosen to be 2.5 Hz\n",
      "h_trans_bandwidth chosen to be 12.5 Hz\n",
      "Filter length of 677 samples (1.322 sec) selected\n"
     ]
    },
    {
     "name": "stderr",
     "output_type": "stream",
     "text": [
      "<ipython-input-3-1b79705063f5>:20: RuntimeWarning:\n",
      "\n",
      "An average reference projection was already added. The data has been left untouched.\n",
      "\n",
      "[Parallel(n_jobs=4)]: Done   4 out of   9 | elapsed:    0.1s remaining:    0.2s\n",
      "[Parallel(n_jobs=4)]: Done   6 out of   9 | elapsed:    0.1s remaining:    0.1s\n",
      "[Parallel(n_jobs=4)]: Done   9 out of   9 | elapsed:    0.2s finished\n",
      "/Users/Ajit/anaconda/lib/python3.5/site-packages/plotly/graph_objs/_deprecations.py:558: DeprecationWarning:\n",
      "\n",
      "plotly.graph_objs.YAxis is deprecated.\n",
      "Please replace it with one of the following more specific types\n",
      "  - plotly.graph_objs.layout.YAxis\n",
      "  - plotly.graph_objs.layout.scene.YAxis\n",
      "\n",
      "\n",
      "/Users/Ajit/anaconda/lib/python3.5/site-packages/plotly/graph_objs/_deprecations.py:318: DeprecationWarning:\n",
      "\n",
      "plotly.graph_objs.Font is deprecated.\n",
      "Please replace it with one of the following more specific types\n",
      "  - plotly.graph_objs.layout.Font\n",
      "  - plotly.graph_objs.layout.hoverlabel.Font\n",
      "  - etc.\n",
      "\n",
      "\n",
      "/Users/Ajit/anaconda/lib/python3.5/site-packages/plotly/graph_objs/_deprecations.py:144: DeprecationWarning:\n",
      "\n",
      "plotly.graph_objs.Annotation is deprecated.\n",
      "Please replace it with one of the following more specific types\n",
      "  - plotly.graph_objs.layout.Annotation\n",
      "  - plotly.graph_objs.layout.scene.Annotation\n",
      "\n",
      "\n",
      "/Users/Ajit/anaconda/lib/python3.5/site-packages/plotly/graph_objs/_deprecations.py:66: DeprecationWarning:\n",
      "\n",
      "plotly.graph_objs.Annotations is deprecated.\n",
      "Please replace it with a list or tuple of instances of the following types\n",
      "  - plotly.graph_objs.layout.Annotation\n",
      "  - plotly.graph_objs.layout.scene.Annotation\n",
      "\n",
      "\n",
      "/Users/Ajit/anaconda/lib/python3.5/site-packages/plotly/graph_objs/_deprecations.py:39: DeprecationWarning:\n",
      "\n",
      "plotly.graph_objs.Data is deprecated.\n",
      "Please replace it with a list or tuple of instances of the following types\n",
      "  - plotly.graph_objs.Scatter\n",
      "  - plotly.graph_objs.Bar\n",
      "  - plotly.graph_objs.Area\n",
      "  - plotly.graph_objs.Histogram\n",
      "  - etc.\n",
      "\n",
      "\n"
     ]
    },
    {
     "name": "stdout",
     "output_type": "stream",
     "text": [
      "High five! You successfully sent some data to your account on plotly. View your plot in your browser at https://plot.ly/~ajpa94/0 or inside your plot.ly account where it is named 'shared xaxis'\n"
     ]
    },
    {
     "data": {
      "text/html": [
       "<iframe id=\"igraph\" scrolling=\"no\" style=\"border:none;\" seamless=\"seamless\" src=\"https://plot.ly/~ajpa94/0.embed\" height=\"600px\" width=\"1000px\"></iframe>"
      ],
      "text/plain": [
       "<plotly.tools.PlotlyDisplay object>"
      ]
     },
     "execution_count": 6,
     "metadata": {},
     "output_type": "execute_result"
    }
   ],
   "source": [
    "event_name, trial_id = 'brook', 8\n",
    "raw = labeled_data[event_name][trial_id][0]\n",
    "fig = visualize_trial(raw, title='test', start=1, stop=10, lfreq=10, hfreq=50, apply_proj=True)\n",
    "py.iplot(fig, filename='shared xaxis') # inline plot"
   ]
  },
  {
   "cell_type": "markdown",
   "metadata": {},
   "source": [
    "### Create html plot for each game considering all trials"
   ]
  },
  {
   "cell_type": "code",
   "execution_count": 7,
   "metadata": {},
   "outputs": [
    {
     "name": "stderr",
     "output_type": "stream",
     "text": [
      "/Users/Ajit/anaconda/lib/python3.5/site-packages/plotly/graph_objs/_deprecations.py:558: DeprecationWarning:\n",
      "\n",
      "plotly.graph_objs.YAxis is deprecated.\n",
      "Please replace it with one of the following more specific types\n",
      "  - plotly.graph_objs.layout.YAxis\n",
      "  - plotly.graph_objs.layout.scene.YAxis\n",
      "\n",
      "\n",
      "/Users/Ajit/anaconda/lib/python3.5/site-packages/plotly/graph_objs/_deprecations.py:318: DeprecationWarning:\n",
      "\n",
      "plotly.graph_objs.Font is deprecated.\n",
      "Please replace it with one of the following more specific types\n",
      "  - plotly.graph_objs.layout.Font\n",
      "  - plotly.graph_objs.layout.hoverlabel.Font\n",
      "  - etc.\n",
      "\n",
      "\n",
      "/Users/Ajit/anaconda/lib/python3.5/site-packages/plotly/graph_objs/_deprecations.py:144: DeprecationWarning:\n",
      "\n",
      "plotly.graph_objs.Annotation is deprecated.\n",
      "Please replace it with one of the following more specific types\n",
      "  - plotly.graph_objs.layout.Annotation\n",
      "  - plotly.graph_objs.layout.scene.Annotation\n",
      "\n",
      "\n",
      "/Users/Ajit/anaconda/lib/python3.5/site-packages/plotly/graph_objs/_deprecations.py:66: DeprecationWarning:\n",
      "\n",
      "plotly.graph_objs.Annotations is deprecated.\n",
      "Please replace it with a list or tuple of instances of the following types\n",
      "  - plotly.graph_objs.layout.Annotation\n",
      "  - plotly.graph_objs.layout.scene.Annotation\n",
      "\n",
      "\n",
      "/Users/Ajit/anaconda/lib/python3.5/site-packages/plotly/graph_objs/_deprecations.py:39: DeprecationWarning:\n",
      "\n",
      "plotly.graph_objs.Data is deprecated.\n",
      "Please replace it with a list or tuple of instances of the following types\n",
      "  - plotly.graph_objs.Scatter\n",
      "  - plotly.graph_objs.Bar\n",
      "  - plotly.graph_objs.Area\n",
      "  - plotly.graph_objs.Histogram\n",
      "  - etc.\n",
      "\n",
      "\n"
     ]
    }
   ],
   "source": [
    "html_start_str = \"<html >\\\n",
    "    <head><script src=\\\"https://cdn.plot.ly/plotly-latest.min.js\\\"></script></head>\\n\\\n",
    "    <body>\"\n",
    "trials_text = {'nat': html_start_str, 'beat': html_start_str, 'brook': html_start_str}\n",
    "for event, trials in labeled_data.items():\n",
    "    for it, trial in enumerate(trials):\n",
    "        title = '{} Trial: {}, valence: {}, arousal: {}'.format(event, it, trial[1][0], trial[1][1])\n",
    "        raw = trial[0]\n",
    "        fig = visualize_trial(raw, title=title)\n",
    "        e = offline.plot(fig, include_plotlyjs=False, output_type='div')\n",
    "        offline.plot(fig, filename=single_trial_folder+\"{}-{}.html\".format(event, it))\n",
    "#         py.iplot(fig, filename='shared xaxis') # inline plot\n",
    "        trials_text[event] += e\n",
    "        trials_text[event] += '\\n\\n'\n",
    "\n",
    "for k in trials_text.keys():\n",
    "    trials_text[k] += '  </body>\\n </html>'    \n",
    "    fh = open(events_plot_folder +\"{}-all-trials.html\".format(k), \"w\")\n",
    "    fh.write(trials_text[k])\n",
    "    fh.close()"
   ]
  },
  {
   "cell_type": "markdown",
   "metadata": {},
   "source": [
    "### Create html plot for each participant complete experiment"
   ]
  },
  {
   "cell_type": "code",
   "execution_count": 8,
   "metadata": {},
   "outputs": [
    {
     "name": "stdout",
     "output_type": "stream",
     "text": [
      "Creating RawArray with float64 data, n_channels=9, n_times=783690\n",
      "    Range : 0 ... 783689 =      0.000 ...  1530.643 secs\n",
      "Ready.\n"
     ]
    },
    {
     "name": "stderr",
     "output_type": "stream",
     "text": [
      "/Users/Ajit/anaconda/lib/python3.5/site-packages/plotly/graph_objs/_deprecations.py:558: DeprecationWarning:\n",
      "\n",
      "plotly.graph_objs.YAxis is deprecated.\n",
      "Please replace it with one of the following more specific types\n",
      "  - plotly.graph_objs.layout.YAxis\n",
      "  - plotly.graph_objs.layout.scene.YAxis\n",
      "\n",
      "\n",
      "/Users/Ajit/anaconda/lib/python3.5/site-packages/plotly/graph_objs/_deprecations.py:318: DeprecationWarning:\n",
      "\n",
      "plotly.graph_objs.Font is deprecated.\n",
      "Please replace it with one of the following more specific types\n",
      "  - plotly.graph_objs.layout.Font\n",
      "  - plotly.graph_objs.layout.hoverlabel.Font\n",
      "  - etc.\n",
      "\n",
      "\n",
      "/Users/Ajit/anaconda/lib/python3.5/site-packages/plotly/graph_objs/_deprecations.py:144: DeprecationWarning:\n",
      "\n",
      "plotly.graph_objs.Annotation is deprecated.\n",
      "Please replace it with one of the following more specific types\n",
      "  - plotly.graph_objs.layout.Annotation\n",
      "  - plotly.graph_objs.layout.scene.Annotation\n",
      "\n",
      "\n",
      "/Users/Ajit/anaconda/lib/python3.5/site-packages/plotly/graph_objs/_deprecations.py:66: DeprecationWarning:\n",
      "\n",
      "plotly.graph_objs.Annotations is deprecated.\n",
      "Please replace it with a list or tuple of instances of the following types\n",
      "  - plotly.graph_objs.layout.Annotation\n",
      "  - plotly.graph_objs.layout.scene.Annotation\n",
      "\n",
      "\n",
      "/Users/Ajit/anaconda/lib/python3.5/site-packages/plotly/graph_objs/_deprecations.py:39: DeprecationWarning:\n",
      "\n",
      "plotly.graph_objs.Data is deprecated.\n",
      "Please replace it with a list or tuple of instances of the following types\n",
      "  - plotly.graph_objs.Scatter\n",
      "  - plotly.graph_objs.Bar\n",
      "  - plotly.graph_objs.Area\n",
      "  - plotly.graph_objs.Histogram\n",
      "  - etc.\n",
      "\n",
      "\n"
     ]
    },
    {
     "name": "stdout",
     "output_type": "stream",
     "text": [
      "Creating RawArray with float64 data, n_channels=9, n_times=937240\n",
      "    Range : 0 ... 937239 =      0.000 ...  1830.545 secs\n",
      "Ready.\n",
      "Creating RawArray with float64 data, n_channels=9, n_times=822810\n",
      "    Range : 0 ... 822809 =      0.000 ...  1607.049 secs\n",
      "Ready.\n",
      "Creating RawArray with float64 data, n_channels=9, n_times=1275210\n",
      "    Range : 0 ... 1275209 =      0.000 ...  2490.643 secs\n",
      "Ready.\n",
      "Creating RawArray with float64 data, n_channels=9, n_times=801020\n",
      "    Range : 0 ... 801019 =      0.000 ...  1564.490 secs\n",
      "Ready.\n",
      "Creating RawArray with float64 data, n_channels=9, n_times=862590\n",
      "    Range : 0 ... 862589 =      0.000 ...  1684.744 secs\n",
      "Ready.\n",
      "Creating RawArray with float64 data, n_channels=9, n_times=1062180\n",
      "    Range : 0 ... 1062179 =      0.000 ...  2074.568 secs\n",
      "Ready.\n",
      "Creating RawArray with float64 data, n_channels=9, n_times=1005120\n",
      "    Range : 0 ... 1005119 =      0.000 ...  1963.123 secs\n",
      "Ready.\n",
      "Creating RawArray with float64 data, n_channels=9, n_times=745260\n",
      "    Range : 0 ... 745259 =      0.000 ...  1455.584 secs\n",
      "Ready.\n",
      "Creating RawArray with float64 data, n_channels=9, n_times=1054010\n",
      "    Range : 0 ... 1054009 =      0.000 ...  2058.611 secs\n",
      "Ready.\n",
      "Creating RawArray with float64 data, n_channels=9, n_times=813030\n",
      "    Range : 0 ... 813029 =      0.000 ...  1587.947 secs\n",
      "Ready.\n",
      "Creating RawArray with float64 data, n_channels=9, n_times=753100\n",
      "    Range : 0 ... 753099 =      0.000 ...  1470.896 secs\n",
      "Ready.\n",
      "Creating RawArray with float64 data, n_channels=9, n_times=868230\n",
      "    Range : 0 ... 868229 =      0.000 ...  1695.760 secs\n",
      "Ready.\n",
      "Creating RawArray with float64 data, n_channels=9, n_times=1037030\n",
      "    Range : 0 ... 1037029 =      0.000 ...  2025.447 secs\n",
      "Ready.\n"
     ]
    }
   ],
   "source": [
    "trials = [1,2,3,6,7,8,9,10,11,12,13,14,15,16]\n",
    "# trial_paths = [join(csv_data_path, f) for f in listdir(csv_data_path) if\n",
    "#                             isfile(join(csv_data_path, f)) and f.endswith(\".csv\")]\n",
    "trial_data = {}\n",
    "info = mne.create_info(ch_names=channel_names, sfreq=sfreq, ch_types=\"eeg\")\n",
    "for t in trials:\n",
    "    if isfile(csv_data_path.format(t)):\n",
    "        data = np.loadtxt(csv_data_path.format(t), delimiter=',')\n",
    "        title = 'Trial: {}'.format(t)\n",
    "        raw = mne.io.RawArray(data, info)\n",
    "        fig = visualize_trial(raw, title=title)\n",
    "        offline.plot(fig, filename=complete_plot_folder+\"trial-{}.html\".format(t))\n",
    "        #         py.iplot(fig, filename='shared xaxis')"
   ]
  },
  {
   "cell_type": "code",
   "execution_count": null,
   "metadata": {
    "collapsed": true
   },
   "outputs": [],
   "source": []
  }
 ],
 "metadata": {
  "kernelspec": {
   "display_name": "Python 3",
   "language": "python",
   "name": "python3"
  },
  "language_info": {
   "codemirror_mode": {
    "name": "ipython",
    "version": 3
   },
   "file_extension": ".py",
   "mimetype": "text/x-python",
   "name": "python",
   "nbconvert_exporter": "python",
   "pygments_lexer": "ipython3",
   "version": "3.5.5"
  }
 },
 "nbformat": 4,
 "nbformat_minor": 2
}
